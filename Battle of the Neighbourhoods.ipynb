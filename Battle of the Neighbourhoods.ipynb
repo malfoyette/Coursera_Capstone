{
 "cells": [
  {
   "cell_type": "markdown",
   "metadata": {},
   "source": [
    "# Introduction/Business Problem"
   ]
  },
  {
   "cell_type": "markdown",
   "metadata": {},
   "source": [
    "<i>Clearly define a problem or an idea of your choice, where you would need to leverage the Foursquare location data to solve or execute. Remember that data science problems always target an audience and are meant to help a group of stakeholders solve a problem, so make sure that you explicitly describe your audience and why they would care about your problem.</i>"
   ]
  },
  {
   "cell_type": "markdown",
   "metadata": {},
   "source": [
    "Singapore is an island nation of foodies. Though a small country, it is cosmopolitan and there is a huge variety of food available from different cuisines and cultures.\n",
    "\n",
    "Due to the Covid-19 pandemic, travellers arriving in Singapore would have to serve a period of quarantine, known as \"Stay Home Notice (SHN)\". Non-residents would have to serve their SHN at a SHN Dedicated Facility such as a hotel. They are provided with meals but also allowed to order takeaway from food places. However, many food places only deliver nearby and do not provide island-wide delivery.\n",
    "\n",
    "As travellers are now allowed book a specific facility (at a higher cost), Foursquare's data would be useful for travellers to decide where to book their stay according to their food preferences."
   ]
  },
  {
   "cell_type": "markdown",
   "metadata": {},
   "source": [
    "# Data"
   ]
  },
  {
   "cell_type": "markdown",
   "metadata": {},
   "source": [
    "<i>Describe the data that you will be using to solve the problem or execute your idea. Remember that you will need to use the Foursquare location data to solve the problem or execute your idea. You can absolutely use other datasets in combination with the Foursquare location data. So make sure that you provide adequate explanation and discussion, with examples, of the data that you will be using, even if it is only Foursquare location data.</i>"
   ]
  },
  {
   "cell_type": "markdown",
   "metadata": {},
   "source": [
    "#### 1) Location of SHN dedicated facilities"
   ]
  },
  {
   "cell_type": "markdown",
   "metadata": {},
   "source": [
    "The list of suite options is available from Singapore authorities' <a href=\"https://safetravel.ica.gov.sg/health/shn/sdfupgrade\">webpage</a>. Then, the coordinates of the specified hotels will be used to find their respective neighbourhoods.\n",
    "\n",
    "For example:\n",
    "\"Swissotel the Stamford\" and \"Intercontinental Robertson Quay\" are two of the hotels."
   ]
  },
  {
   "cell_type": "markdown",
   "metadata": {},
   "source": [
    "#### 2) Neighbourhoods"
   ]
  },
  {
   "cell_type": "markdown",
   "metadata": {},
   "source": [
    "Next, I will look up the venue's Foursquare's data on the neighbourhoods.\n",
    "\n",
    "For example:\n",
    "Swissotel's neighbourhood is listed as \"Downtown Core\" on Foursquare, whereas the Intercontinental's neighbourhood is listed as \"River Valley\"."
   ]
  },
  {
   "cell_type": "markdown",
   "metadata": {},
   "source": [
    "#### 3) Eateries in the neighbourhoods"
   ]
  },
  {
   "cell_type": "markdown",
   "metadata": {},
   "source": [
    "I will then explore the neighbourhoods for the top 10 eatieries based on ratings."
   ]
  }
 ],
 "metadata": {
  "kernelspec": {
   "display_name": "Python 3",
   "language": "python",
   "name": "python3"
  },
  "language_info": {
   "codemirror_mode": {
    "name": "ipython",
    "version": 3
   },
   "file_extension": ".py",
   "mimetype": "text/x-python",
   "name": "python",
   "nbconvert_exporter": "python",
   "pygments_lexer": "ipython3",
   "version": "3.7.6"
  }
 },
 "nbformat": 4,
 "nbformat_minor": 4
}
